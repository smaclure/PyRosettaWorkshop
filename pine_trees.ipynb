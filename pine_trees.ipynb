{
  "cells": [
    {
      "cell_type": "markdown",
      "metadata": {
        "id": "view-in-github",
        "colab_type": "text"
      },
      "source": [
        "<a href=\"https://colab.research.google.com/github/smaclure/PyRosettaWorkshop/blob/main/pine_trees.ipynb\" target=\"_parent\"><img src=\"https://colab.research.google.com/assets/colab-badge.svg\" alt=\"Open In Colab\"/></a>"
      ]
    },
    {
      "cell_type": "markdown",
      "metadata": {
        "id": "O0-VBlGOWq6W"
      },
      "source": [
        "First off, you need to open this notebook in Google Colab. So download this notebook and upload it to your Google Drive. Once it's in your Google Drive, you can open it with Google Colab."
      ]
    },
    {
      "cell_type": "markdown",
      "metadata": {
        "id": "diesZxvvWq6Z"
      },
      "source": [
        "# HW2 : Pine Trees\n",
        "\n",
        "I would like you to channel your inner Bob Ross and write a python program that draws ASCII art pine trees.\n",
        "Your program should prompt the user to input the height of the tree they would like. Then it should draw a tree to the output area beneath your code. The tree should be made of astrix (*) . It should have a trunk visible at the bottom of the tree from the pipe symbol (|).\n",
        "\n",
        "An example run would look like below:"
      ]
    },
    {
      "cell_type": "code",
      "execution_count": null,
      "metadata": {
        "id": "cLS0Ged9Wq6b"
      },
      "outputs": [],
      "source": [
        "'''\n",
        "How tall should the tree be? 10\n",
        "          *\n",
        "         ***\n",
        "        *****\n",
        "       *******\n",
        "      *********\n",
        "     ***********\n",
        "    *************\n",
        "   ***************\n",
        "  *****************\n",
        " *******************\n",
        "          |\n",
        "'''"
      ]
    },
    {
      "cell_type": "markdown",
      "metadata": {
        "id": "krStTsH2Wq6d"
      },
      "source": [
        "Here's another example with a shorter tree:"
      ]
    },
    {
      "cell_type": "code",
      "execution_count": null,
      "metadata": {
        "id": "RzrTXcj_Wq6f"
      },
      "outputs": [],
      "source": [
        "'''\n",
        "How tall should the tree be? 4\n",
        "    *\n",
        "   ***\n",
        "  *****\n",
        " *******\n",
        "    |\n",
        "'''"
      ]
    },
    {
      "cell_type": "markdown",
      "metadata": {
        "id": "81hsFiSVWq6f"
      },
      "source": [
        "### Here are some hints:\n",
        "\n",
        "* You will use the print function.\n",
        "  * I want you to use the print function to print only a single character at a time.\n",
        "  * For example, you should use `print(\"*\", end=\"\")` or `print(\" \", end=\"\")`.\n",
        "  \n",
        "  \n",
        "* In order to get this program to work, you will need to use for loops.\n",
        "  * You will write more than one for loop.\n",
        "\n",
        "* You will prompt the user to specify a length by asking \"How tall should the tree be?\"\n",
        "  * The user shoud be able to enter their answer on the same line as the question.\n",
        "  * After entering their answer, the tree should be drawn to the output area."
      ]
    },
    {
      "cell_type": "code",
      "execution_count": 34,
      "metadata": {
        "colab": {
          "base_uri": "https://localhost:8080/"
        },
        "id": "5fAyRVygWq6g",
        "outputId": "bfc43411-48a1-4e28-d8d6-3ddf9ca41a98"
      },
      "outputs": [
        {
          "output_type": "stream",
          "name": "stdout",
          "text": [
            "How tall do you want your tree? 8\n",
            "       *\n",
            "      ***\n",
            "     *****\n",
            "    *******\n",
            "   *********\n",
            "  ***********\n",
            " *************\n",
            "***************\n",
            "       |\n"
          ]
        }
      ],
      "source": [
        "# Implement your code in this cell.\n",
        "\n",
        "num = int(input(\"How tall do you want your tree? \"))\n",
        "\n",
        "for x in range(1, num + 1):\n",
        "    constant = 2 * x - 1\n",
        "    print(\" \" * (num - x), end=\"\")\n",
        "    print(\"*\" * constant, end=\"\\n\")\n",
        "\n",
        "print(\" \" * (num - 1) + \"|\")\n",
        "\n",
        "#for x in range(1, num + 1):\n",
        "#    constant = 2 * x - 1\n",
        "#    asterisk_number = \"*\" * constant\n",
        "#    print(asterisk_number)\n",
        "\n",
        "#print(\"|\")"
      ]
    }
  ],
  "metadata": {
    "kernelspec": {
      "display_name": "Python 3",
      "language": "python",
      "name": "python3"
    },
    "language_info": {
      "codemirror_mode": {
        "name": "ipython",
        "version": 3
      },
      "file_extension": ".py",
      "mimetype": "text/x-python",
      "name": "python",
      "nbconvert_exporter": "python",
      "pygments_lexer": "ipython3",
      "version": "3.10.6"
    },
    "orig_nbformat": 4,
    "colab": {
      "provenance": [],
      "include_colab_link": true
    }
  },
  "nbformat": 4,
  "nbformat_minor": 0
}