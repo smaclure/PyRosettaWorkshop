{
  "cells": [
    {
      "cell_type": "markdown",
      "metadata": {
        "id": "view-in-github",
        "colab_type": "text"
      },
      "source": [
        "<a href=\"https://colab.research.google.com/github/smaclure/PyRosettaWorkshop/blob/main/Copy_of_homework3.ipynb\" target=\"_parent\"><img src=\"https://colab.research.google.com/assets/colab-badge.svg\" alt=\"Open In Colab\"/></a>"
      ]
    },
    {
      "cell_type": "markdown",
      "metadata": {
        "id": "l27yaZO5CTHf"
      },
      "source": [
        "First, download this notebook and upload it to your Google Drive. Once it's in your Google Drive, you can open it with Google Colab. Write your code in Google Colab. When you're done, download the notebook from Google Colab and upload it to GitHub. This is exactly what you did in the previous assignment."
      ]
    },
    {
      "cell_type": "markdown",
      "metadata": {
        "id": "MvDP7ga3CTHh"
      },
      "source": [
        "# HW3 : More Python Exercises\n",
        "\n",
        "Hi everyone! Welcome to the third homework assignment. This assignment contains more Python exercises. You will practice using lists and the `if` statement."
      ]
    },
    {
      "cell_type": "markdown",
      "metadata": {
        "id": "nbegv84eCTHi"
      },
      "source": [
        "### Problem 1: Age Predictor.\n",
        "\n",
        "Write a program to predict the age of the user. You will do this by asking six questions:\n",
        "\n",
        ">Question 1: \"Do you own a landline? (yes/no)\"\n",
        "\n",
        "Answer 1: \"yes\" is older, \"no\" is younger\n",
        "\n",
        ">Question 2: \"Do you know how to write in cursive? (yes/no)\"\n",
        "\n",
        "Answer 2: \"yes\" is older, \"no\" is younger\n",
        "\n",
        ">Question 3: \"Do you know how to use a rotary phone? (yes/no)\"\n",
        "\n",
        "Answer 3: \"yes\" is older, \"no\" is younger\n",
        "\n",
        ">Question 4: \"If I say \"up up down down left right left right\" what do you say?\"\n",
        "\n",
        "Answer 4: \"B A\" is younger, \"huh?\" is older\n",
        "\n",
        ">Question 5: \"Do you know what a floppy disk is? (yes/no)\"\n",
        "\n",
        "Answer 5: \"yes\" is older, \"no\" is younger\n",
        "\n",
        ">Question 6: \"What are records made of?\"\n",
        "\n",
        "Answer 6: \"vinyl\" is older, \"plastic\" is younger\n",
        "\n",
        "For each question, if the given answer is the older answer, add 1 to the age. If the given answer is the younger answer, subtract 1 from the age. If the given answer is neither, add 0 to the age.\n",
        "\n",
        "Now take the answers and average them. If the average is less than 0, print \"You are young!\" If the average is greater than 0, print \"You are old!\" If the average is 0, print \"You are timeless!\""
      ]
    },
    {
      "cell_type": "code",
      "execution_count": 9,
      "metadata": {
        "colab": {
          "base_uri": "https://localhost:8080/"
        },
        "id": "BSt0FTvvCTHj",
        "outputId": "7ca2db8a-5e1a-4373-c1bf-92ea1da878ca"
      },
      "outputs": [
        {
          "output_type": "stream",
          "name": "stdout",
          "text": [
            "Do you own a landline? (yes/no) Yes\n",
            "-1\n",
            "Do you know how to write in cursive? (yes/no)yes\n",
            "0\n",
            "Do you know how to use a rotary phone? (yes/no)yes\n",
            "1\n",
            "If I say 'up up down down left right left right' what do you say?huh?\n",
            "2\n",
            "Do you know what a floppy disk is? (yes/no)no\n",
            "1\n",
            "What are records made of?plastic\n",
            "0\n",
            "You are timeless!\n"
          ]
        }
      ],
      "source": [
        "# Implement your code for Problem 1 in this cell.\n",
        "x = 0\n",
        "\n",
        "A1 = input(\"Do you own a landline? (yes/no) \")\n",
        "\n",
        "if A1 == \"yes\":\n",
        "  x1 = x + 1\n",
        "elif A1 == \"no\":\n",
        "  x1 = x - 1\n",
        "\n",
        "A2 = input(\"Do you know how to write in cursive? (yes/no)\")\n",
        "\n",
        "if A2 == \"yes\":\n",
        "  x2 = x1 + 1\n",
        "elif A2 == \"no\":\n",
        "  x2 = x1 - 1\n",
        "\n",
        "A3 = input(\"Do you know how to use a rotary phone? (yes/no)\")\n",
        "\n",
        "if A3 == \"yes\":\n",
        "  x3 = x2 + 1\n",
        "elif A3 == \"no\":\n",
        "  x3 = x2 - 1\n",
        "\n",
        "A4 = input(\"If I say 'up up down down left right left right' what do you say?\")\n",
        "\n",
        "if A4 == \"huh?\":\n",
        "  x4 = x3 + 1\n",
        "elif A4 == \"B A\":\n",
        "  x4 = x3 - 1\n",
        "\n",
        "A5 = input(\"Do you know what a floppy disk is? (yes/no)\")\n",
        "\n",
        "if A5 == \"yes\":\n",
        "  x5 = x4 + 1\n",
        "elif A5 == \"no\":\n",
        "  x5 = x4 - 1\n",
        "\n",
        "A6 = input(\"What are records made of?\")\n",
        "\n",
        "if A6 == \"vinyl\":\n",
        "  x6 = x5 + 1\n",
        "elif A6 == \"plastic\":\n",
        "  x6 = x5 - 1\n",
        "\n",
        "if x6 < 0:\n",
        "  print(\"You are young!\")\n",
        "elif x6 == 0:\n",
        "  print(\"You are timeless!\")\n",
        "else: # x6 > 0\n",
        "  print(\"You are old!\")"
      ]
    },
    {
      "cell_type": "markdown",
      "metadata": {
        "id": "UGjOSSrSCTHl"
      },
      "source": [
        "### Problem 2: Sorter.\n",
        "\n",
        "Write a program to sort a list of integers that the user gives you. Prompt the user to give you a list of integers, separated by spaces, and then hit enter. Once they've hit enter,\n",
        "1. convert the string that you are given into integers, and\n",
        "2. put those integers into a Python \"list\".\n",
        "\n",
        "(A list in Python is an array; it has the insertion and access complexity of an array and not a typical computer-science-class \"list.\" They're called lists anyways.)\n",
        "\n",
        "After you have created the list, use a function that list provides (google for it!) that will sort the contents of the list in ascending order.\n",
        "\n",
        "Then print the sorted list to the screen for the user.\n",
        "\n",
        "You may assume that the user is not going to input \"five\" to mean the number 5 or give you any non-integer inputs."
      ]
    },
    {
      "cell_type": "code",
      "execution_count": 22,
      "metadata": {
        "id": "3ZRq51dSCTHm",
        "colab": {
          "base_uri": "https://localhost:8080/"
        },
        "outputId": "e9416383-1eac-4fcf-811e-f01807ecc7ab"
      },
      "outputs": [
        {
          "output_type": "stream",
          "name": "stdout",
          "text": [
            "Type a list of integers, seperated by spaces: (e.g. 1 34 89 47)4 3 2 1\n",
            "Your integer list in ascending order is:  [1, 2, 3, 4]\n"
          ]
        }
      ],
      "source": [
        "# Implement your code for Problem 2 in this cell.\n",
        "\n",
        "integer = (input(\"Type a list of integers, seperated by spaces: (e.g. 1 34 89 47)\"))\n",
        "\n",
        "integer_list = []\n",
        "for x in integer.split(\" \"):\n",
        "  integer_list.append(int(x))\n",
        "\n",
        "integer_list.sort()\n",
        "\n",
        "print(\"Your integer list in ascending order is: \", integer_list)"
      ]
    },
    {
      "cell_type": "markdown",
      "metadata": {
        "id": "vqQ1bSR9CTHm"
      },
      "source": [
        "### Problem 3: Repeater.\n",
        "\n",
        "Write a program that takes two lists of integers that the user gives you. Prompt for the first list, wait for them to hit enter, then prompt for the second list. The lists must be the same length.\n",
        "\n",
        "Print out the elements of the first list repeated as many times as requested in the second list.\n",
        "\n",
        "E.g.\n",
        "\n",
        ">Please enter your first list:\n",
        "\n",
        "1 2 3 4 5 6 7\n",
        "\n",
        ">Please enter your second list:\n",
        "\n",
        "0 2 1 0 3 2 1\n",
        "\n",
        ">Here are your results:\n",
        "\n",
        "2 2 3 5 5 5 6 6 7\n",
        "\n",
        "(The first element, 1, is repeated 0 times; the second element, 2, is repeated 2 times; the third element 3 is repeated 1 time; etc.)\n",
        "\n",
        "If the user gives you two lists of different length, print an error message to the screen instead of printing any numbers."
      ]
    },
    {
      "cell_type": "code",
      "execution_count": 2,
      "metadata": {
        "id": "0OD3Js72CTHn",
        "colab": {
          "base_uri": "https://localhost:8080/"
        },
        "outputId": "0c2fe26d-fda2-4d60-95d3-96f832f7a1a4"
      },
      "outputs": [
        {
          "output_type": "stream",
          "name": "stdout",
          "text": [
            "Please enter your first list: 1 2 3 4 5 6\n",
            "[1, 2, 3, 4, 5, 6]\n",
            "Please enter your second list - make sure it is the same length as your first list: 2 4 1 0 3 1\n",
            "[2, 4, 1, 0, 3, 1]\n",
            "11222235556"
          ]
        }
      ],
      "source": [
        "# Implement your code for Problem 3 in this cell.\n",
        "\n",
        "input1 = input(\"Please enter your first list: \")\n",
        "\n",
        "integer_list1 = [int(x) for x in input1.split(\" \")]\n",
        "\n",
        "#print(integer_list1)\n",
        "\n",
        "input2 = input(\"Please enter your second list - make sure it is the same length as your first list: \")\n",
        "\n",
        "integer_list2 = [int(y) for y in input2.split(\" \")]\n",
        "\n",
        "#print(integer_list2)\n",
        "\n",
        "if len(integer_list1) != len(integer_list2):\n",
        "  print(\"Error - list1 and list2 are different lengths\")\n",
        "  exit()\n",
        "\n",
        "for loop, number1 in enumerate(integer_list1):\n",
        "  number2 = integer_list2[loop]\n",
        "  for value in range(number2):\n",
        "    print(number1, end=\"\")\n",
        "\n",
        "\n",
        "#for y in input2.split(\" \"): - condensed this to above form\n",
        "#  try:\n",
        "#    integer_list1.append(int(y))\n",
        "#  except ValueError:\n",
        "#    print(f\"Invalid input: '{y}' is not an integer\")\n",
        "#    exit()\n",
        "# to ensure exit happens when lists are different lengths, import sys and use sys.exit() - for notebooks"
      ]
    }
  ],
  "metadata": {
    "kernelspec": {
      "display_name": "Python 3",
      "language": "python",
      "name": "python3"
    },
    "language_info": {
      "codemirror_mode": {
        "name": "ipython",
        "version": 3
      },
      "file_extension": ".py",
      "mimetype": "text/x-python",
      "name": "python",
      "nbconvert_exporter": "python",
      "pygments_lexer": "ipython3",
      "version": "3.10.6"
    },
    "orig_nbformat": 4,
    "colab": {
      "provenance": [],
      "include_colab_link": true
    }
  },
  "nbformat": 4,
  "nbformat_minor": 0
}
